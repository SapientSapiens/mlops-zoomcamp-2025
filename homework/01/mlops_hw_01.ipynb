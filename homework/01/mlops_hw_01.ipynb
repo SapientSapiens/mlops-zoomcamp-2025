{
  "nbformat": 4,
  "nbformat_minor": 0,
  "metadata": {
    "colab": {
      "provenance": [],
      "authorship_tag": "ABX9TyNSz67s2xJEH8gDrPscn0W/",
      "include_colab_link": true
    },
    "kernelspec": {
      "name": "python3",
      "display_name": "Python 3"
    },
    "language_info": {
      "name": "python"
    }
  },
  "cells": [
    {
      "cell_type": "markdown",
      "metadata": {
        "id": "view-in-github",
        "colab_type": "text"
      },
      "source": [
        "<a href=\"https://colab.research.google.com/github/SapientSapiens/mlops-zoomcamp-2025/blob/main/homework/01/mlops_hw_01.ipynb\" target=\"_parent\"><img src=\"https://colab.research.google.com/assets/colab-badge.svg\" alt=\"Open In Colab\"/></a>"
      ]
    },
    {
      "cell_type": "markdown",
      "source": [
        "### Question 1: Downloading the data\n",
        "\n",
        "    We'll use the same NYC taxi dataset, but instead of \"Green Taxi Trip Records\", we'll use \"Yellow Taxi Trip Records\".\n",
        "\n",
        "    Download the data for January and February 2023.\n",
        "\n",
        "    Read the data for January. How many columns are there?\n",
        "\n",
        "    16\n",
        "    17\n",
        "    18\n",
        "    19"
      ],
      "metadata": {
        "id": "Gfot7tvVBG4_"
      }
    },
    {
      "cell_type": "markdown",
      "source": [
        "```\n",
        "Getting the Yellow taxi Trip Records for January 2023\n",
        "```"
      ],
      "metadata": {
        "id": "8zSbMLPK-ud6"
      }
    },
    {
      "cell_type": "code",
      "execution_count": 2,
      "metadata": {
        "colab": {
          "base_uri": "https://localhost:8080/"
        },
        "id": "HauanSOx676_",
        "outputId": "4c5d2906-6e32-4071-9ea1-2ebf987e326b"
      },
      "outputs": [
        {
          "output_type": "stream",
          "name": "stdout",
          "text": [
            "--2025-05-19 14:41:33--  https://d37ci6vzurychx.cloudfront.net/trip-data/yellow_tripdata_2023-01.parquet\n",
            "Resolving d37ci6vzurychx.cloudfront.net (d37ci6vzurychx.cloudfront.net)... 18.239.38.163, 18.239.38.181, 18.239.38.147, ...\n",
            "Connecting to d37ci6vzurychx.cloudfront.net (d37ci6vzurychx.cloudfront.net)|18.239.38.163|:443... connected.\n",
            "HTTP request sent, awaiting response... 200 OK\n",
            "Length: 47673370 (45M) [application/x-www-form-urlencoded]\n",
            "Saving to: ‘data/yellowtaxi_triprecords_2023-January.parquet’\n",
            "\n",
            "data/yellowtaxi_tri 100%[===================>]  45.46M   276MB/s    in 0.2s    \n",
            "\n",
            "2025-05-19 14:41:33 (276 MB/s) - ‘data/yellowtaxi_triprecords_2023-January.parquet’ saved [47673370/47673370]\n",
            "\n"
          ]
        }
      ],
      "source": [
        "!wget https://d37ci6vzurychx.cloudfront.net/trip-data/yellow_tripdata_2023-01.parquet -O data/yellowtaxi_triprecords_2023-January.parquet"
      ]
    },
    {
      "cell_type": "markdown",
      "source": [
        "```\n",
        "Getting the Yellow taxi Trip Records for February 2023\n",
        "```"
      ],
      "metadata": {
        "id": "fEolaELp_oqj"
      }
    },
    {
      "cell_type": "code",
      "source": [
        "!wget https://d37ci6vzurychx.cloudfront.net/trip-data/yellow_tripdata_2023-02.parquet -O data/yellowtaxi_triprecords_2023-February.parquet"
      ],
      "metadata": {
        "colab": {
          "base_uri": "https://localhost:8080/"
        },
        "id": "5TRuxZDk-riE",
        "outputId": "60969ba0-d037-42f4-87d8-ca6745066117"
      },
      "execution_count": 3,
      "outputs": [
        {
          "output_type": "stream",
          "name": "stdout",
          "text": [
            "--2025-05-19 14:42:42--  https://d37ci6vzurychx.cloudfront.net/trip-data/yellow_tripdata_2023-02.parquet\n",
            "Resolving d37ci6vzurychx.cloudfront.net (d37ci6vzurychx.cloudfront.net)... 18.239.38.147, 18.239.38.163, 18.239.38.83, ...\n",
            "Connecting to d37ci6vzurychx.cloudfront.net (d37ci6vzurychx.cloudfront.net)|18.239.38.147|:443... connected.\n",
            "HTTP request sent, awaiting response... 200 OK\n",
            "Length: 47748012 (46M) [application/x-www-form-urlencoded]\n",
            "Saving to: ‘data/yellowtaxi_triprecords_2023-February.parquet’\n",
            "\n",
            "data/yellowtaxi_tri 100%[===================>]  45.54M   175MB/s    in 0.3s    \n",
            "\n",
            "2025-05-19 14:42:43 (175 MB/s) - ‘data/yellowtaxi_triprecords_2023-February.parquet’ saved [47748012/47748012]\n",
            "\n"
          ]
        }
      ]
    },
    {
      "cell_type": "markdown",
      "source": [
        "#### Importing the required libraries"
      ],
      "metadata": {
        "id": "FA5_sUKiA36x"
      }
    },
    {
      "cell_type": "code",
      "source": [
        "import numpy as np\n",
        "import pandas as pd\n",
        "import matplotlib.pyplot as plt\n",
        "import seaborn as sns\n",
        "# from sklearn"
      ],
      "metadata": {
        "id": "hEUBlOuX_zjE"
      },
      "execution_count": 5,
      "outputs": []
    },
    {
      "cell_type": "markdown",
      "source": [
        "#### Read the data for January"
      ],
      "metadata": {
        "id": "CqAjFwKQA-dQ"
      }
    },
    {
      "cell_type": "code",
      "source": [
        "# read the data for January into a dataframe\n",
        "df_Jan = pd.read_parquet('data/yellowtaxi_triprecords_2023-January.parquet')"
      ],
      "metadata": {
        "id": "Iw4eW9DKBqb3"
      },
      "execution_count": 7,
      "outputs": []
    },
    {
      "cell_type": "code",
      "source": [
        "# check size of the dataframe\n",
        "df_Jan.shape[1]"
      ],
      "metadata": {
        "colab": {
          "base_uri": "https://localhost:8080/"
        },
        "id": "Wk56alHMB9ls",
        "outputId": "2cac7e97-aab9-4128-d561-b9a0c037a19e"
      },
      "execution_count": 9,
      "outputs": [
        {
          "output_type": "execute_result",
          "data": {
            "text/plain": [
              "19"
            ]
          },
          "metadata": {},
          "execution_count": 9
        }
      ]
    },
    {
      "cell_type": "markdown",
      "source": [
        "#### So we see there are **19 columns** for thee data of January."
      ],
      "metadata": {
        "id": "vL5EDao8Kn-a"
      }
    }
  ]
}